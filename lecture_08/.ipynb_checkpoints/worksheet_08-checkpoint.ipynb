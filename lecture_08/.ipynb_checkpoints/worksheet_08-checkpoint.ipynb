{
 "cells": [
  {
   "cell_type": "markdown",
   "metadata": {},
   "source": [
    "# Worksheet 08\n",
    "\n",
    "Name: William Seong\n",
    "UID: U76365580\n",
    "\n",
    "### Topics\n",
    "\n",
    "- Soft Clustering\n",
    "- Clustering Aggregation\n",
    "\n",
    "### Probability Review\n",
    "\n",
    "Read through [the following](https://medium.com/@gallettilance/overview-of-probability-3272b72c82c8)\n",
    "\n",
    "### Soft Clustering\n",
    "\n",
    "We generate 10 data points that come from a normal distribution with mean 5 and variance 1."
   ]
  },
  {
   "cell_type": "code",
   "execution_count": 9,
   "metadata": {},
   "outputs": [
    {
     "name": "stdout",
     "output_type": "stream",
     "text": [
      "[4.055988024980722, 4.423448076737951, 4.85712086677734, 3.522825450178008, 3.8461729050740283, 5.597318018570601, 6.204535150932582, 4.428708109879814, 5.818175226088792, 5.452308627109691]\n"
     ]
    }
   ],
   "source": [
    "import random\n",
    "import numpy as np\n",
    "from sklearn.cluster import KMeans\n",
    "\n",
    "mean = 5\n",
    "stdev = 1\n",
    "\n",
    "s1 = np.random.normal(mean, stdev, 10).tolist()\n",
    "\n",
    "print(s1)"
   ]
  },
  {
   "cell_type": "markdown",
   "metadata": {},
   "source": [
    "a) Generate 10 more data points, this time coming from a normal distribution with mean 8 and variance 1."
   ]
  },
  {
   "cell_type": "code",
   "execution_count": 10,
   "metadata": {},
   "outputs": [
    {
     "name": "stdout",
     "output_type": "stream",
     "text": [
      "[7.444429681448245, 7.635576506985428, 7.726871781220934, 7.713990381339189, 9.07159408298757, 9.750542444852174, 7.0404274101807625, 5.634614803089239, 9.59184000338671, 7.1710458023403545]\n"
     ]
    }
   ],
   "source": [
    "mean = 8\n",
    "stdev = 1\n",
    "\n",
    "s2 = np.random.normal( mean , stdev , 10 ).tolist()\n",
    "print(s2)"
   ]
  },
  {
   "cell_type": "markdown",
   "metadata": {},
   "source": [
    "b) Flip a fair coin 10 times. If the coin lands on H, then pick the last data point of `c1` and remove it from `c1`, if T then pick the last data point from `c2` and remove it from `c2`. Add these 10 points to a list called `data`."
   ]
  },
  {
   "cell_type": "code",
   "execution_count": 11,
   "metadata": {},
   "outputs": [
    {
     "name": "stdout",
     "output_type": "stream",
     "text": [
      "[7.1710458023403545, 9.59184000338671, 5.634614803089239, 5.452308627109691, 5.818175226088792, 4.428708109879814, 6.204535150932582, 5.597318018570601, 7.0404274101807625, 3.8461729050740283]\n"
     ]
    }
   ],
   "source": [
    "data = []\n",
    "for i in range(10):\n",
    "    # flip coin\n",
    "    coin_output = random.choice([0, 1])\n",
    "    if coin_output == 0:\n",
    "        p1 = s1.pop()\n",
    "        data.append(p1)\n",
    "    else:\n",
    "        p2 = s2.pop()\n",
    "        data.append(p2)\n",
    "print(data)"
   ]
  },
  {
   "cell_type": "markdown",
   "metadata": {},
   "source": [
    "c) This `data` is a Gaussian Mixture Distribution with 2 mixture components. Over the next few questions we will walk through the GMM algorithm to see if we can uncover the parameters we used to generate this data. First, please list all these parameters of the GMM that created `data` and the values we know they have."
   ]
  },
  {
   "cell_type": "markdown",
   "metadata": {},
   "source": [
    "Prior probability of being species 1, prior probability of being species 2, mean and variance of weight of species 1, and the mean and variance of the weight of species 2"
   ]
  },
  {
   "cell_type": "markdown",
   "metadata": {},
   "source": [
    "d) Let's assume there are two mixture components (note: we could plot the data and make the observation that there are two clusters). The EM algorithm asks us to start with a random `mean_j`, `variance_j`, `P(S_j)` for each component j. One method we could use to find sensible values for these is to apply K means with k=2 here.\n",
    "\n",
    "1. the centroids would be the estimates of the `mean_j`\n",
    "2. the intra-cluster variance could be the estimate of `variance_j`\n",
    "3. the proportion of points in each cluster could be the estimate of `P(S_j)`\n",
    "\n",
    "Go through this process and list the parameter estimates it gives. Are they close or far from the true values?"
   ]
  },
  {
   "cell_type": "code",
   "execution_count": 12,
   "metadata": {},
   "outputs": [
    {
     "name": "stdout",
     "output_type": "stream",
     "text": [
      "[5.634614803089239, 5.452308627109691, 5.818175226088792, 4.428708109879814, 6.204535150932582, 5.597318018570601, 3.8461729050740283]\n",
      "[7.1710458023403545, 9.59184000338671, 7.0404274101807625]\n",
      "P(S_1) = 0.7,  P(S_2) = 0.3\n",
      "mean_1 = 5.2831189772492495,  mean_2 = 7.934437738635943\n",
      "var_1 = 0.5972886271337648,  var_2 = 1.3763346609955474\n"
     ]
    }
   ],
   "source": [
    "kmeans = KMeans(2, init='k-means++').fit(X=np.array(data).reshape(-1, 1))\n",
    "\n",
    "s1 = [x[0] for x in filter(lambda x: x[1] == 0, zip(data, kmeans.labels_))]\n",
    "print(s1)\n",
    "s2 = [x[0] for x in filter(lambda x: x[1] == 1, zip(data, kmeans.labels_))]\n",
    "print(s2)\n",
    "\n",
    "prob_s = [ len(s1) / (len(s1) + len(s2)) , len(s2) / (len(s1) + len(s2)) ]\n",
    "mean = [ sum(s1)/len(s1) , sum(s2)/len(s2) ]\n",
    "var = [ sum(map(lambda x : (x - mean[0])**2, s1)) / len(s1), sum(map(lambda x : (x - mean[1])**2, s2)) / len(s2) ]\n",
    "\n",
    "print(\"P(S_1) = \" + str(prob_s[0]) + \",  P(S_2) = \" + str(prob_s[1]))\n",
    "print(\"mean_1 = \" + str(mean[0]) + \",  mean_2 = \" + str(mean[1]))\n",
    "print(\"var_1 = \" + str(var[0]) + \",  var_2 = \" + str(var[1]))"
   ]
  },
  {
   "cell_type": "markdown",
   "metadata": {},
   "source": [
    "For the lower cluster it says the average was 5.3 which is close to the actual average of 5, and the higher cluster was 7.93 which is extremely close to the actual average of 8. The variance was a off getting .6 and 1.4 compared to the actual variance of 1. Also the probability of getting either cluster was 50%, but we got 70/30 split. "
   ]
  },
  {
   "cell_type": "markdown",
   "metadata": {},
   "source": [
    "e) For each data point, compute `P(S_j | X_i)`. Comment on which cluster you think each point belongs to based on the estimated probabilities. How does that compare to the truth?"
   ]
  },
  {
   "cell_type": "code",
   "execution_count": 13,
   "metadata": {},
   "outputs": [
    {
     "name": "stdout",
     "output_type": "stream",
     "text": [
      "point =  7.1710458023403545\n",
      "probability of observing that point if it came from cluster 0 =  0.004521092373550239\n",
      "probability of observing that point if it came from cluster 1 =  0.2485319282863373\n",
      "point =  9.59184000338671\n",
      "probability of observing that point if it came from cluster 0 =  3.34671150878561e-12\n",
      "probability of observing that point if it came from cluster 1 =  0.14037626806378065\n",
      "point =  5.634614803089239\n",
      "probability of observing that point if it came from cluster 0 =  0.5617258088651638\n",
      "probability of observing that point if it came from cluster 1 =  0.07175887333780474\n",
      "point =  5.452308627109691\n",
      "probability of observing that point if it came from cluster 0 =  0.6416562077359119\n",
      "probability of observing that point if it came from cluster 1 =  0.057008775815434655\n",
      "point =  5.818175226088792\n",
      "probability of observing that point if it came from cluster 0 =  0.44716833039022236\n",
      "probability of observing that point if it came from cluster 1 =  0.08887886665065006\n",
      "point =  4.428708109879814\n",
      "probability of observing that point if it came from cluster 0 =  0.24009426590174723\n",
      "probability of observing that point if it came from cluster 1 =  0.011306847187636374\n",
      "point =  6.204535150932582\n",
      "probability of observing that point if it came from cluster 0 =  0.20321491984187606\n",
      "probability of observing that point if it came from cluster 1 =  0.1315655735346725\n",
      "point =  5.597318018570601\n",
      "probability of observing that point if it came from cluster 0 =  0.581616532572391\n",
      "probability of observing that point if it came from cluster 1 =  0.0685568393858661\n",
      "point =  7.0404274101807625\n",
      "probability of observing that point if it came from cluster 0 =  0.00881160358715585\n",
      "probability of observing that point if it came from cluster 1 =  0.2347284907758408\n",
      "point =  3.8461729050740283\n",
      "probability of observing that point if it came from cluster 0 =  0.0369763558534175\n",
      "probability of observing that point if it came from cluster 1 =  0.0035175121825788617\n",
      "7.1710458023403545\n",
      "Probability of coming from S_1 = 0.040717805173134995\n",
      "Probability of coming from S_2 = 0.9592821948268649\n",
      "\n",
      "9.59184000338671\n",
      "Probability of coming from S_1 = 5.562901498789878e-11\n",
      "Probability of coming from S_2 = 0.999999999944371\n",
      "\n",
      "5.634614803089239\n",
      "Probability of coming from S_1 = 0.9480930613467693\n",
      "Probability of coming from S_2 = 0.051906938653230685\n",
      "\n",
      "5.452308627109691\n",
      "Probability of coming from S_1 = 0.9633196924781843\n",
      "Probability of coming from S_2 = 0.03668030752181562\n",
      "\n",
      "5.818175226088792\n",
      "Probability of coming from S_1 = 0.921503936244408\n",
      "Probability of coming from S_2 = 0.078496063755592\n",
      "\n",
      "4.428708109879814\n",
      "Probability of coming from S_1 = 0.9802164182525192\n",
      "Probability of coming from S_2 = 0.019783581747480933\n",
      "\n",
      "6.204535150932582\n",
      "Probability of coming from S_1 = 0.7827996539946976\n",
      "Probability of coming from S_2 = 0.21720034600530227\n",
      "\n",
      "5.597318018570601\n",
      "Probability of coming from S_1 = 0.9519122797408931\n",
      "Probability of coming from S_2 = 0.048087720259106896\n",
      "\n",
      "7.0404274101807625\n",
      "Probability of coming from S_1 = 0.08053780810219319\n",
      "Probability of coming from S_2 = 0.9194621918978069\n",
      "\n",
      "3.8461729050740283\n",
      "Probability of coming from S_1 = 0.9608275994400356\n",
      "Probability of coming from S_2 = 0.039172400559964404\n",
      "\n"
     ]
    }
   ],
   "source": [
    "from scipy.stats import norm\n",
    "\n",
    "prob_s0_x = [] # P(S_0 | X_i) probability that the data is in cluster 0 given that it is X?\n",
    "prob_s1_x = [] # P(S_1 | X_i)\n",
    "prob_x = [] # P(X_i)\n",
    "\n",
    "k = 2\n",
    "\n",
    "for p in data:\n",
    "    print(\"point = \", p)\n",
    "    pdf_i = []\n",
    "\n",
    "    for j in range(k): # for each cluster\n",
    "        # P(X_i | S_j)\n",
    "        pdf_i.append(norm.pdf(p, mean[j], var[j]))\n",
    "        print(\"probability of observing that point if it came from cluster \" + str(j) + \" = \", pdf_i[j])\n",
    "        # P(S_j) already computed\n",
    "        prob_s[j]\n",
    "\n",
    "    # P(X_i) = P(S_0)P(X_i | S_0) + P(S_1)P(X_i | S_1)\n",
    "    prob_x = prob_s[0] * pdf_i[0] + prob_s[1] * pdf_i[1]\n",
    "\n",
    "    # P(S_j | X_i) = P(X_i | S_j)P(S_j) / P(X_i)\n",
    "    prob_s0_x.append( pdf_i[0] * prob_s[0] / prob_x )\n",
    "    prob_s1_x.append( pdf_i[1] * prob_s[1] / prob_x )\n",
    "\n",
    "probs = zip(data, prob_s0_x, prob_s1_x)\n",
    "for p in probs:\n",
    "    print(p[0])\n",
    "    print(\"Probability of coming from S_1 = \" + str(p[1]))\n",
    "    print(\"Probability of coming from S_2 = \" + str(p[2]))\n",
    "    print()\n"
   ]
  },
  {
   "cell_type": "markdown",
   "metadata": {},
   "source": [
    "f) Having computed `P(S_j | X_i)`, update the estimates of `mean_j`, `var_j`, and `P(S_j)`. How different are these values from the original ones you got from K means? briefly comment."
   ]
  },
  {
   "cell_type": "code",
   "execution_count": 23,
   "metadata": {},
   "outputs": [
    {
     "name": "stdout",
     "output_type": "stream",
     "text": [
      "P(S_1) = 0.7,  P(S_2) = 0.3\n",
      "mean_1 = 5.284612523302004,  mean_2 = 7.640354900302485\n",
      "var_1 = 0.6426061649096532,  var_2 = 1.9026421193392322\n"
     ]
    }
   ],
   "source": [
    "prob_c = [sum(prob_s0_x)/ len(prob_s0_x), sum(prob_s1_x)/ len(prob_s1_x) ]\n",
    "mean = [sum([x[0] * x[1] for x in zip(prob_s0_x, data)]) / sum(prob_s0_x), sum([x[0] * x[1] for x in zip(prob_s1_x, data)]) / sum(prob_s1_x) ]\n",
    "var = [ sum([x[0] * (x[1] - mean[0]) ** 2 for x in zip(prob_s0_x, data)])  / sum(prob_s0_x), sum([x[0] * (x[1] - mean[1]) ** 2 for x in zip(prob_s1_x, data)])  / sum(prob_s1_x) ]\n",
    "\n",
    "print(\"P(S_1) = \" + str(prob_s[0]) + \",  P(S_2) = \" + str(prob_s[1]))\n",
    "print(\"mean_1 = \" + str(mean[0]) + \",  mean_2 = \" + str(mean[1]))\n",
    "print(\"var_1 = \" + str(var[0]) + \",  var_2 = \" + str(var[1]))"
   ]
  },
  {
   "cell_type": "markdown",
   "metadata": {},
   "source": [
    "The mean and variance for cluster 0 are roughly the same, but the mean for cluster 1 is lower, and the variance is higher than kmeans, and almost double than what it actually should be."
   ]
  },
  {
   "cell_type": "markdown",
   "metadata": {},
   "source": [
    "g) Update `P(S_j | X_i)`. Comment on any differences or lack thereof you observe."
   ]
  },
  {
   "cell_type": "code",
   "execution_count": 24,
   "metadata": {},
   "outputs": [
    {
     "name": "stdout",
     "output_type": "stream",
     "text": [
      "point =  7.1710458023403545\n",
      "probability of observing that point if it came from cluster 0 =  0.00834925741494945\n",
      "probability of observing that point if it came from cluster 1 =  0.20339547138821623\n",
      "point =  9.59184000338671\n",
      "probability of observing that point if it came from cluster 0 =  1.0894981733371172e-10\n",
      "probability of observing that point if it came from cluster 1 =  0.12391211908681624\n",
      "point =  5.634614803089239\n",
      "probability of observing that point if it came from cluster 0 =  0.5352384681807161\n",
      "probability of observing that point if it came from cluster 1 =  0.12029155160813923\n",
      "point =  5.452308627109691\n",
      "probability of observing that point if it came from cluster 0 =  0.6000357724990136\n",
      "probability of observing that point if it came from cluster 1 =  0.1082364840273145\n",
      "point =  5.818175226088792\n",
      "probability of observing that point if it came from cluster 0 =  0.4398053083486712\n",
      "probability of observing that point if it came from cluster 1 =  0.13255118442476618\n",
      "point =  4.428708109879814\n",
      "probability of observing that point if it came from cluster 0 =  0.25570524646459963\n",
      "probability of observing that point if it came from cluster 1 =  0.05044647457695899\n",
      "point =  6.204535150932582\n",
      "probability of observing that point if it came from cluster 0 =  0.2228218984123937\n",
      "probability of observing that point if it came from cluster 1 =  0.15772114124196865\n",
      "point =  5.597318018570601\n",
      "probability of observing that point if it came from cluster 0 =  0.5514990445541482\n",
      "probability of observing that point if it came from cluster 1 =  0.11780861858647569\n",
      "point =  7.0404274101807625\n",
      "probability of observing that point if it came from cluster 0 =  0.014853188131742728\n",
      "probability of observing that point if it came from cluster 1 =  0.19950955759434733\n",
      "point =  3.8461729050740283\n",
      "probability of observing that point if it came from cluster 0 =  0.05068947412464287\n",
      "probability of observing that point if it came from cluster 1 =  0.0287094562694866\n",
      "7.1710458023403545\n",
      "Probability of coming from S_1 = 0.07472200040403255\n",
      "Probability of coming from S_2 = 0.9252779995959675\n",
      "\n",
      "9.59184000338671\n",
      "Probability of coming from S_1 = 1.729746273589455e-09\n",
      "Probability of coming from S_2 = 0.9999999982702537\n",
      "\n",
      "5.634614803089239\n",
      "Probability of coming from S_1 = 0.897472731426194\n",
      "Probability of coming from S_2 = 0.10252726857380609\n",
      "\n",
      "5.452308627109691\n",
      "Probability of coming from S_1 = 0.9160100912369254\n",
      "Probability of coming from S_2 = 0.08398990876307459\n",
      "\n",
      "5.818175226088792\n",
      "Probability of coming from S_1 = 0.8671536781981525\n",
      "Probability of coming from S_2 = 0.13284632180184758\n",
      "\n",
      "4.428708109879814\n",
      "Probability of coming from S_1 = 0.9088581945103332\n",
      "Probability of coming from S_2 = 0.09114180548966677\n",
      "\n",
      "6.204535150932582\n",
      "Probability of coming from S_1 = 0.7354017275051331\n",
      "Probability of coming from S_2 = 0.264598272494867\n",
      "\n",
      "5.597318018570601\n",
      "Probability of coming from S_1 = 0.9020522811162762\n",
      "Probability of coming from S_2 = 0.09794771888372376\n",
      "\n",
      "7.0404274101807625\n",
      "Probability of coming from S_1 = 0.12775146961347977\n",
      "Probability of coming from S_2 = 0.8722485303865202\n",
      "\n",
      "3.8461729050740283\n",
      "Probability of coming from S_1 = 0.7764594642044467\n",
      "Probability of coming from S_2 = 0.22354053579555322\n",
      "\n"
     ]
    }
   ],
   "source": [
    "prob_S0_X = [] # P(S_0 | X_i)\n",
    "prob_S1_X = [] # P(S_1 | X_i)\n",
    "prob_X = [] # P(X_i)\n",
    "\n",
    "k = 2\n",
    "\n",
    "for p in data:\n",
    "    print(\"point = \", p)\n",
    "    pdf_i = []\n",
    "\n",
    "    for j in range(k):\n",
    "        # P(X_i | S_j)\n",
    "        pdf_i.append(norm.pdf(p, mean[j], var[j]))\n",
    "        print(\"probability of observing that point if it came from cluster \" + str(j) + \" = \", pdf_i[j])\n",
    "        # P(S_j) already computed\n",
    "        prob_c[j]\n",
    "\n",
    "    # P(X_i) = P(S_0)P(X_i | S_0) + P(S_1)P(X_i | S_1)\n",
    "    prob_X = prob_c[0] * pdf_i[0] + prob_c[1] * pdf_i[1]\n",
    "\n",
    "    # P(S_j | X_i) = P(X_i | S_j)P(S_j) / P(X_i)\n",
    "    prob_S0_X.append( pdf_i[0] * prob_c[0] / prob_X )\n",
    "    prob_S1_X.append( pdf_i[1] * prob_c[1] / prob_X )\n",
    "\n",
    "probs_1 = zip(data, prob_S0_X, prob_S1_X)\n",
    "for p in probs_1:\n",
    "    print(p[0])\n",
    "    print(\"Probability of coming from S_1 = \" + str(p[1]))\n",
    "    print(\"Probability of coming from S_2 = \" + str(p[2]))\n",
    "    print()"
   ]
  },
  {
   "cell_type": "markdown",
   "metadata": {},
   "source": [
    "Seems to give more chance of belonging to either cluster compared to before."
   ]
  },
  {
   "cell_type": "markdown",
   "metadata": {},
   "source": [
    "h) Use `P(S_j | X_i)` to create a hard assignment - label each point as belonging to a specific cluster (0 or 1)"
   ]
  },
  {
   "cell_type": "code",
   "execution_count": 25,
   "metadata": {},
   "outputs": [
    {
     "name": "stdout",
     "output_type": "stream",
     "text": [
      "{7.1710458023403545: 1, 9.59184000338671: 1, 5.634614803089239: 0, 5.452308627109691: 0, 5.818175226088792: 0, 4.428708109879814: 0, 6.204535150932582: 0, 5.597318018570601: 0, 7.0404274101807625: 1, 3.8461729050740283: 0}\n"
     ]
    }
   ],
   "source": [
    "prob = zip(data, prob_S0_X, prob_S1_X)\n",
    "\n",
    "assign = {}\n",
    "\n",
    "for p in prob: \n",
    "    if p[1] > p[2]: # if probability of point belonging in cluster 0 greater than cluster 1\n",
    "        assign[p[0]] = 0\n",
    "    else:\n",
    "        assign[p[0]] = 1\n",
    "\n",
    "print(assign)\n"
   ]
  },
  {
   "cell_type": "code",
   "execution_count": null,
   "metadata": {},
   "outputs": [],
   "source": []
  }
 ],
 "metadata": {
  "kernelspec": {
   "display_name": "Python 3 (ipykernel)",
   "language": "python",
   "name": "python3"
  },
  "language_info": {
   "codemirror_mode": {
    "name": "ipython",
    "version": 3
   },
   "file_extension": ".py",
   "mimetype": "text/x-python",
   "name": "python",
   "nbconvert_exporter": "python",
   "pygments_lexer": "ipython3",
   "version": "3.9.13"
  },
  "vscode": {
   "interpreter": {
    "hash": "e7370f93d1d0cde622a1f8e1c04877d8463912d04d973331ad4851f04de6915a"
   }
  }
 },
 "nbformat": 4,
 "nbformat_minor": 2
}
